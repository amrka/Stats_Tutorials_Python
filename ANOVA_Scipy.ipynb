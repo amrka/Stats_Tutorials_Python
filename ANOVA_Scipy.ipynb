{
 "cells": [
  {
   "cell_type": "markdown",
   "metadata": {},
   "source": [
    "# Import Modules"
   ]
  },
  {
   "cell_type": "code",
   "execution_count": 1,
   "metadata": {},
   "outputs": [],
   "source": [
    "#Start with importing the required modules\n",
    "import scipy.stats as stats #scipy statistical functions\n",
    "import matplotlib.pyplot as plt #for making plots\n",
    "import numpy as np #numerical python, to do many mathematical operations and importing data"
   ]
  },
  {
   "cell_type": "markdown",
   "metadata": {},
   "source": [
    "# Import the Data from a file"
   ]
  },
  {
   "cell_type": "code",
   "execution_count": 22,
   "metadata": {},
   "outputs": [],
   "source": [
    "#example data set, physical activity of children from different ages (11, 13, 145 years old)\n",
    "physical_activity = np.genfromtxt('/home/amr/physical_activity.csv', delimiter=',') #import the data, you can import any format"
   ]
  },
  {
   "cell_type": "code",
   "execution_count": 23,
   "metadata": {},
   "outputs": [
    {
     "name": "stdout",
     "output_type": "stream",
     "text": [
      "[ 16.  19.  30.  19.  36.  29.  29.  28.  41.  39.  35.  24.  17.  22.   8.\n",
      "  25.  28.  17.  23.  32.  26.  18.  25.  35.  24.  44.  32.  30.  46.  38.\n",
      "  39.  28.  25.  31.  11.  29.  19.  19.  44.]\n"
     ]
    }
   ],
   "source": [
    "y_11 = physical_activity[1:,0] #extract the first column without the name of the column\n",
    "#notice that python is zero idexed i.e the counting starts from 0 not from 1 like matlab\n",
    "print(y_11) #you cannot start a variable name with a no. that's why y_11 noy 11y"
   ]
  },
  {
   "cell_type": "code",
   "execution_count": 24,
   "metadata": {},
   "outputs": [
    {
     "name": "stdout",
     "output_type": "stream",
     "text": [
      "[ 24.  38.  44.  34.  57.  50.  56.  53.  66.  66.  55.  43.  44.  43.  16.\n",
      "  47.  55.  31.  46.  55.  44.  45.  46.  64.  57.  56.  54.  41.  53.  61.\n",
      "  61.  50.  42.  58.  30.  37.  27.  39.  66.]\n"
     ]
    }
   ],
   "source": [
    "y_13 = physical_activity[1:,1] #extract the second column without the name of the column\n",
    "print(y_13)"
   ]
  },
  {
   "cell_type": "code",
   "execution_count": 25,
   "metadata": {},
   "outputs": [
    {
     "name": "stdout",
     "output_type": "stream",
     "text": [
      "[ 34.  56.  53.  39.  61.  61.  70.  66.  75.  76.  60.  52.  58.  49.  28.\n",
      "  53.  75.  33.  57.  64.  57.  55.  60.  75.  81.  66.  51.  55.  65.  67.\n",
      "  70.  58.  56.  69.  45.  33.  37.  43.  68.]\n"
     ]
    }
   ],
   "source": [
    "y_15 = physical_activity[1:,2] #extract the third column without the name of the column\n",
    "print(y_15)"
   ]
  },
  {
   "cell_type": "code",
   "execution_count": 42,
   "metadata": {},
   "outputs": [
    {
     "data": {
      "text/plain": [
       "(40, 3)"
      ]
     },
     "execution_count": 42,
     "metadata": {},
     "output_type": "execute_result"
    }
   ],
   "source": [
    "physical_activity.shape #you can check the length of your data, 40 rows(legend + 39 value) and 3 columns"
   ]
  },
  {
   "cell_type": "markdown",
   "metadata": {},
   "source": [
    "# Check for Normality"
   ]
  },
  {
   "cell_type": "code",
   "execution_count": 31,
   "metadata": {},
   "outputs": [
    {
     "data": {
      "text/plain": [
       "NormaltestResult(statistic=0.26939627903776825, pvalue=0.87397969180388857)"
      ]
     },
     "execution_count": 31,
     "metadata": {},
     "output_type": "execute_result"
    }
   ],
   "source": [
    "#since ANOVA is a parametric test, to be able to use it properly, you have to check first that the values in each\n",
    "#group are following a normal distribution\n",
    "#there are many tests to check for this, we are going to use D'Agostino and Pearson's \n",
    "#as implemented in scipy.stats.normaltest\n",
    "#there is another test implemented also in scipy called Shapiro-Wilk test, (scipy.stats.shapiro)\n",
    "#the logic is the same, the data is following a normal distribuiton if the result of the test is NOT significant (p>0.05)\n",
    "stats.normaltest(y_11)"
   ]
  },
  {
   "cell_type": "code",
   "execution_count": 29,
   "metadata": {},
   "outputs": [
    {
     "data": {
      "text/plain": [
       "NormaltestResult(statistic=2.2216071068080154, pvalue=0.32929424921949585)"
      ]
     },
     "execution_count": 29,
     "metadata": {},
     "output_type": "execute_result"
    }
   ],
   "source": [
    "stats.normaltest(y_13)"
   ]
  },
  {
   "cell_type": "code",
   "execution_count": 30,
   "metadata": {},
   "outputs": [
    {
     "data": {
      "text/plain": [
       "NormaltestResult(statistic=1.6772783659653556, pvalue=0.43229840236302719)"
      ]
     },
     "execution_count": 30,
     "metadata": {},
     "output_type": "execute_result"
    }
   ],
   "source": [
    "stats.normaltest(y_15)"
   ]
  },
  {
   "cell_type": "code",
   "execution_count": 32,
   "metadata": {},
   "outputs": [
    {
     "data": {
      "text/plain": [
       "(0.9832028746604919, 0.8163239359855652)"
      ]
     },
     "execution_count": 32,
     "metadata": {},
     "output_type": "execute_result"
    }
   ],
   "source": [
    "#you can compare the results with Shapiro-Wilk test also \n",
    "stats.shapiro(y_11) #the result should be fairly close"
   ]
  },
  {
   "cell_type": "markdown",
   "metadata": {},
   "source": [
    "# Check for equal STDV"
   ]
  },
  {
   "cell_type": "code",
   "execution_count": 37,
   "metadata": {},
   "outputs": [
    {
     "name": "stdout",
     "output_type": "stream",
     "text": [
      "Standard deviation of 11 years old is: 9.030302\n",
      "Standard deviation of 13 years old is: 11.920347\n",
      "Standard deviation of 15 years old is: 13.097621\n"
     ]
    }
   ],
   "source": [
    "#Now,we are going to use ANOVA to test if there is any significant test between the three groups\n",
    "#to be able to use ANOVA properly, our data should check three requirements\n",
    "#1- the samples are independent -> check\n",
    "#2- withdrawn from normal distribution -> check\n",
    "#3- equal standard deviations, we are going to calculate now\n",
    "stdv_y_11 = np.std(y_11)\n",
    "print('Standard deviation of 11 years old is: %f'%stdv_y_11)\n",
    "\n",
    "stdv_y_13 = np.std(y_13)\n",
    "print('Standard deviation of 13 years old is: %f'%stdv_y_13)\n",
    "\n",
    "stdv_y_15 = np.std(y_15)\n",
    "print('Standard deviation of 15 years old is: %f'%stdv_y_15)"
   ]
  },
  {
   "cell_type": "markdown",
   "metadata": {},
   "source": [
    "# Perfrom the actual test "
   ]
  },
  {
   "cell_type": "code",
   "execution_count": 83,
   "metadata": {},
   "outputs": [
    {
     "name": "stdout",
     "output_type": "stream",
     "text": [
      "F-stat for anova test: 65.305755\n",
      "p_value for anova test: 0.0000000000000000001260068\n"
     ]
    }
   ],
   "source": [
    "#now, the actual test\n",
    "#notice that we are using one-way anova because we have only one variable (i.e physical activity)\n",
    "#running the test will give you 2 values:\n",
    "#f-stat and p-value\n",
    "[anova_f_stat, anova_p_value] = stats.f_oneway(y_11, y_13, y_15)\n",
    "\n",
    "print('F-stat for anova test: %f'%anova_f_stat) \n",
    "print('p_value for anova test: %0.025f'%anova_p_value) #0.025f just formatting the output to see from all the zeros"
   ]
  },
  {
   "cell_type": "code",
   "execution_count": 52,
   "metadata": {},
   "outputs": [],
   "source": [
    "#as you see, there is a huge significance\n",
    "#but anova is non-directional test, it will tell you there is a difference between your groups, but not where exactly\n",
    "#you have to use something like Tukey or Bonferoni"
   ]
  },
  {
   "cell_type": "markdown",
   "metadata": {},
   "source": [
    "# Plot your data"
   ]
  },
  {
   "cell_type": "code",
   "execution_count": 82,
   "metadata": {},
   "outputs": [
    {
     "data": {
      "image/png": "[encoded data removed]",
      "text/plain": [
       "<matplotlib.figure.Figure at 0x7f3e8aa5ead0>"
      ]
     },
     "metadata": {},
     "output_type": "display_data"
    }
   ],
   "source": [
    "plt.boxplot(physical_activity[1:,:]);# A very simple way to plot the data, you can change almost everything and \n",
    "#customize your graph as much as you want \n"
   ]
  },
  {
   "cell_type": "code",
   "execution_count": null,
   "metadata": {},
   "outputs": [],
   "source": []
  }
 ],
 "metadata": {
  "kernelspec": {
   "display_name": "Python 2",
   "language": "python",
   "name": "python2"
  },
  "language_info": {
   "codemirror_mode": {
    "name": "ipython",
    "version": 2
   },
   "file_extension": ".py",
   "mimetype": "text/x-python",
   "name": "python",
   "nbconvert_exporter": "python",
   "pygments_lexer": "ipython2",
   "version": "2.7.14"
  }
 },
 "nbformat": 4,
 "nbformat_minor": 2
}
